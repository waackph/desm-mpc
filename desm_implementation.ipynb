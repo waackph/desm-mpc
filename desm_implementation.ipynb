{
 "cells": [
  {
   "cell_type": "code",
   "execution_count": 160,
   "metadata": {
    "collapsed": true
   },
   "outputs": [],
   "source": [
    "import numpy as np\n",
    "import gensim\n",
    "import nltk\n",
    "from sklearn.decomposition import PCA\n",
    "from matplotlib import pyplot"
   ]
  },
  {
   "cell_type": "markdown",
   "metadata": {},
   "source": [
    "# Tasks \n",
    "(Python Solution to get an overview of the problem)\n",
    "1. Extract the Embeddings of Documents & Query efficiently (In-/Out-Embeddings > 5GB each!)\n",
    "2. Visualize the document-query embedding space\n",
    "3. Compute DESM-Score and evaluate with experiment of Paper A Dual Embedding Space Model for Document Ranking (Table 2 in paper)"
   ]
  },
  {
   "cell_type": "markdown",
   "metadata": {},
   "source": [
    "### Dependencies\n",
    "1. word embeddings (in.txt, out.txt) need to be in same directory"
   ]
  },
  {
   "cell_type": "markdown",
   "metadata": {},
   "source": [
    "# Extract Embeddings"
   ]
  },
  {
   "cell_type": "code",
   "execution_count": 161,
   "metadata": {
    "collapsed": false
   },
   "outputs": [
    {
     "data": {
      "text/plain": [
       "'The city of Cambridge is a university city and the county town of Cambridgeshire, England.  It lies\\nin East Anglia, on the River Cam, about 50 miles (80 km) north of London. According to the United\\nKingdom Census 2011, its population was 123,867 (including 24,488 students). This makes Cambridge\\nthe second largest city in Cambridgeshire after Peterborough, and the 54th largest in the United Kingdom.\\nThere is archaeological evidence of settlement in the area during the Bronze Age and Roman times;\\nunder Viking rule Cambridge became an important trading centre. The first town charters were granted\\nin the 12th century, although city status was not conferred until 1951.'"
      ]
     },
     "execution_count": 161,
     "metadata": {},
     "output_type": "execute_result"
    }
   ],
   "source": [
    "open('data.txt').read().split('\\n\\n')[0]"
   ]
  },
  {
   "cell_type": "code",
   "execution_count": 162,
   "metadata": {
    "collapsed": false
   },
   "outputs": [],
   "source": [
    "#Tokenize Documents (documents are seperated by \\n\\n and ended with \\n\\n\\n)\n",
    "def tokenize_docs(path, amountDocs):\n",
    "    #get documents (as a string) into a list\n",
    "    f = open(path)\n",
    "    docs = f.read().split('\\n\\n')[:amountDocs]\n",
    "    f.close()\n",
    "    #Tokenize documents\n",
    "    tokenizer = nltk.tokenize.RegexpTokenizer(r'\\w+')\n",
    "    doc_list = []\n",
    "    for idx, doc in enumerate(docs):\n",
    "        doc = doc.lower()\n",
    "        doc_list.append(tokenizer.tokenize(doc))\n",
    "    #format numbers correctly for each document\n",
    "    list_numb = []\n",
    "    next_numb = False\n",
    "    for doc in doc_list:\n",
    "        numb = []\n",
    "        for idx, word in enumerate(doc):\n",
    "            if idx<len(doc)-1 and doc[idx].isdigit() and doc[idx+1].isdigit():\n",
    "                numb.append(doc[idx] + '.' + doc[idx+1])\n",
    "                next_numb = True\n",
    "            elif next_numb:\n",
    "                next_numb = False\n",
    "                continue\n",
    "            else:\n",
    "                numb.append(word)\n",
    "        list_numb.append(numb)\n",
    "    return list_numb #doc_list"
   ]
  },
  {
   "cell_type": "code",
   "execution_count": 163,
   "metadata": {
    "collapsed": false
   },
   "outputs": [],
   "source": [
    "documents = tokenize_docs('data.txt', 5)"
   ]
  },
  {
   "cell_type": "code",
   "execution_count": 164,
   "metadata": {
    "collapsed": false
   },
   "outputs": [],
   "source": [
    "#build an offset index for each word in the embedding-file\n",
    "def build_embed_index(path):\n",
    "    f = open(path)\n",
    "    d = dict()\n",
    "    offset = 0\n",
    "    for idx, word in enumerate(f):\n",
    "        if idx%1000000==0:\n",
    "            print('Progress: Line ' + str(idx))\n",
    "        d[word.split('\\t')[0]] = offset\n",
    "        offset += len(word)+1\n",
    "    f.close()\n",
    "    return d"
   ]
  },
  {
   "cell_type": "code",
   "execution_count": 165,
   "metadata": {
    "collapsed": false
   },
   "outputs": [
    {
     "name": "stdout",
     "output_type": "stream",
     "text": [
      "Progress: Line 0\n",
      "Progress: Line 1000000\n",
      "Progress: Line 2000000\n",
      "Progress: Line 0\n",
      "Progress: Line 1000000\n",
      "Progress: Line 2000000\n"
     ]
    }
   ],
   "source": [
    "in_dic = build_embed_index('in.txt')\n",
    "out_dic = build_embed_index('out.txt')"
   ]
  },
  {
   "cell_type": "code",
   "execution_count": 166,
   "metadata": {
    "collapsed": false
   },
   "outputs": [
    {
     "name": "stdout",
     "output_type": "stream",
     "text": [
      "the [0.020954, -0.006632, -0.103103, 0.08206, 0.003313, 0.036865, -0.018602, -0.020235, -0.100809, 0.00888, -0.045356, -0.058931, -0.037689, 0.024242, 0.082323, -0.015734, -0.140314, 0.062658, 0.036014, 0.118489, 0.059976, 0.055213, 0.065356, 0.057408, 0.087332, -0.008574, 0.10927, -0.117298, 0.10422, 0.07505, 0.048633, -0.056942, 0.047313, 0.014587, 0.004798, -0.016378, 0.000893, -0.035273, 0.065086, 0.081557, -0.011301, -0.103547, -0.140496, -0.115079, -0.051609, 0.020947, -0.09124, 0.036975, 0.131189, 0.042397, -0.028097, -0.054932, -0.051236, 0.033599, -0.009727, 0.01122, 0.029692, 0.010664, 0.020816, 0.054101, -0.005857, -0.05388, -0.015685, 0.001653, 0.03097, -0.05072, 0.022598, 0.106003, 0.024549, 0.035735, 0.043685, -0.03783, 0.096765, -0.001681, -0.020546, -0.072955, -0.036875, 0.020559, 0.062735, -0.077124, 0.150957, -0.06671, -0.01855, -0.021941, -0.003186, -0.025571, -0.076848, -0.136842, -0.001924, 0.017544, 0.05541, -0.014795, 0.08681, -0.052711, -0.03141, -0.092883, 0.040276, -0.004361, -0.009657, 0.18686, -0.078855, 0.02939, 0.05374, 0.014867, 0.064793, -0.016693, -0.061255, -0.054052, -0.069862, -1.8e-05, -0.020278, -0.164922, -0.006384, 0.03631, 0.097884, 0.023369, -0.100051, -0.023532, -0.041592, -0.019731, 0.113933, -0.122705, 0.120393, -0.104222, -0.106901, 0.13888, -0.024331, 0.061934, 0.046982, -0.020871, -0.015356, 0.071501, 0.003472, -0.056332, -0.045186, 0.165905, -0.038684, 0.082798, 0.033071, 0.042289, 0.142061, -0.082838, 0.018055, -0.033431, -0.066766, 0.016302, -0.02233, -0.11926, 0.116257, -0.020406, -0.006135, -0.155741, -0.003183, 0.024101, -0.027295, -0.06839, 0.074612, 0.004284, 0.079949, -0.170336, 0.032688, 0.080651, -0.122617, -0.098081, 0.08984, 0.040348, -0.096103, 0.084775, -0.00229, -0.028523, 0.059876, 0.140323, -0.183597, -0.019207, 0.026306, 0.080236, 0.006031, -0.143145, 0.059862, 0.025622, 0.003498, 0.01578, -0.046337, 0.057457, 0.044246, 0.043591, -0.042283, -0.053028, -0.012019, -0.057759, -0.060461, 0.158024, 0.111549, 0.03323, -0.024668, -0.028328, 0.042495, 0.038521, -0.118546, -0.035216]\n"
     ]
    }
   ],
   "source": [
    "f = open('in.txt')\n",
    "f.seek(0)\n",
    "f.seek(in_dic['the'])\n",
    "w = f.readline()\n",
    "print(w.split('\\t')[0], [float(i) for i in w.split('\\t')[1:]])\n",
    "f.close()"
   ]
  },
  {
   "cell_type": "code",
   "execution_count": 167,
   "metadata": {
    "collapsed": true
   },
   "outputs": [],
   "source": [
    "#extract the word embeddings per document\n",
    "def extract_embed(file, dic, doc):\n",
    "    fd = open(file)\n",
    "    vecs = []\n",
    "    for word in doc:\n",
    "        if word not in dic.keys():\n",
    "            continue\n",
    "            #vecs.append(np.zeros(200))\n",
    "        else:\n",
    "            fd.seek(dic[word])\n",
    "            w = fd.readline()\n",
    "            vecs.append(np.array([float(i) for i in w.split('\\t')[1:]]))\n",
    "    fd.close()\n",
    "    return vecs"
   ]
  },
  {
   "cell_type": "code",
   "execution_count": 168,
   "metadata": {
    "collapsed": false
   },
   "outputs": [
    {
     "data": {
      "text/plain": [
       "200"
      ]
     },
     "execution_count": 168,
     "metadata": {},
     "output_type": "execute_result"
    }
   ],
   "source": [
    "#Get word embeddings for each document, resulting Data Structure: doc_embeds[doc][vec][item]\n",
    "doc_embeds = []\n",
    "for document in documents:\n",
    "    doc_embeds.append(extract_embed('out.txt', out_dic, document))\n",
    "len(doc_embeds[0][0])"
   ]
  },
  {
   "cell_type": "code",
   "execution_count": 169,
   "metadata": {
    "collapsed": false
   },
   "outputs": [
    {
     "data": {
      "text/plain": [
       "200"
      ]
     },
     "execution_count": 169,
     "metadata": {},
     "output_type": "execute_result"
    }
   ],
   "source": [
    "#Get word embeddings for the query, resulting Data Structure: query_embeds[query][vec][item]\n",
    "query = ['cambridge']\n",
    "query_embeds = []\n",
    "query_embeds.append(extract_embed('in.txt', in_dic, query))\n",
    "len(query_embeds[0][0])"
   ]
  },
  {
   "cell_type": "code",
   "execution_count": 170,
   "metadata": {
    "collapsed": false
   },
   "outputs": [],
   "source": [
    "#Using gensim to load the word embeddings doesn't seem to work because of formating (also the files are really big)\n",
    "# =>correct formating is another approach to try!\n",
    "#wordvecs = gensim.models.KeyedVectors.load_word2vec_format('in.txt', binary=False)"
   ]
  },
  {
   "cell_type": "markdown",
   "metadata": {},
   "source": [
    "# Visualize document-query embedding space"
   ]
  },
  {
   "cell_type": "markdown",
   "metadata": {},
   "source": [
    "## How to represent a Document D with word embeddings\n",
    "Here D is the centroid of all the normalized vectors for the words in the document serving as a single embedding for the whole document"
   ]
  },
  {
   "cell_type": "markdown",
   "metadata": {},
   "source": [
    "## How to compute a centroid of word embeddings\n",
    "To find the centroid, one computes the (arithmetic) mean of the points' positions separately for each dimension."
   ]
  },
  {
   "cell_type": "markdown",
   "metadata": {},
   "source": [
    "## Computing a Documents-Query Representation with PCA\n",
    "A  two  dimensional  PCA  projection  of  the  200-\n",
    "dimensional embeddings. Relevant documents are yellow, irrel-\n",
    "evant documents are grey, and the query is blue.  To visualize\n",
    "the  results  of  multiple  queries  at  once,  before  dimensionality\n",
    "reduction we centre query vectors at the origin and represent\n",
    "documents as the difference between the document vector and\n",
    "its query vector."
   ]
  },
  {
   "cell_type": "code",
   "execution_count": 171,
   "metadata": {
    "collapsed": false
   },
   "outputs": [],
   "source": [
    "#Compute Document-Centroid\n",
    "\n",
    "def euclid_norm(v):\n",
    "    norm = 0\n",
    "    for i in v:\n",
    "        norm += i**2\n",
    "    return np.sqrt(norm)\n",
    "\n",
    "def abs_norm(v):\n",
    "    norm = 0\n",
    "    for i in v:\n",
    "        norm += abs(i)\n",
    "    return norm\n",
    "\n",
    "def compute_centroid(D):\n",
    "    D_N = len(D)\n",
    "    centroid = np.zeros(len(D[0]))\n",
    "    for d in D:\n",
    "        centroid += d / euclid_norm(d)\n",
    "    return centroid/D_N"
   ]
  },
  {
   "cell_type": "code",
   "execution_count": 172,
   "metadata": {
    "collapsed": false
   },
   "outputs": [
    {
     "data": {
      "text/plain": [
       "200"
      ]
     },
     "execution_count": 172,
     "metadata": {},
     "output_type": "execute_result"
    }
   ],
   "source": [
    "doc_centroids = []\n",
    "for embed in doc_embeds:\n",
    "    doc_centroids.append(compute_centroid(embed))\n",
    "len(doc_centroids[0])"
   ]
  },
  {
   "cell_type": "code",
   "execution_count": 173,
   "metadata": {
    "collapsed": true
   },
   "outputs": [],
   "source": [
    "pca = PCA(n_components=2)"
   ]
  },
  {
   "cell_type": "code",
   "execution_count": 174,
   "metadata": {
    "collapsed": false
   },
   "outputs": [],
   "source": [
    "doc_pca = pca.fit_transform(doc_centroids + query_embeds[0])"
   ]
  },
  {
   "cell_type": "code",
   "execution_count": 175,
   "metadata": {
    "collapsed": false
   },
   "outputs": [
    {
     "data": {
      "image/png": "[encoded data removed]",
      "text/plain": [
       "<matplotlib.figure.Figure at 0x7f0cf58660f0>"
      ]
     },
     "metadata": {},
     "output_type": "display_data"
    }
   ],
   "source": [
    "pyplot.scatter(list(doc_pca[:, 0]), list(doc_pca[:, 1]))\n",
    "doc_title = ['Cambridge', 'Oxford', 'Giraffes', 'Giraffes_switched', 'Cambridge_switched', 'query']\n",
    "for idx, doc in enumerate(doc_title):\n",
    "    pyplot.annotate(doc, xy=(doc_pca[idx,0], doc_pca[idx,1]))\n",
    "pyplot.show()"
   ]
  },
  {
   "cell_type": "markdown",
   "metadata": {},
   "source": [
    "## Compute DESM"
   ]
  },
  {
   "cell_type": "code",
   "execution_count": 176,
   "metadata": {
    "collapsed": false
   },
   "outputs": [],
   "source": [
    "#Function to compute desm for a query and all documents\n",
    "def desm(Q, D):\n",
    "    #Denominator\n",
    "    Q_N = len(Q)\n",
    "    #Sum of cosine similarities between query term and document\n",
    "    Q_cosine = 0\n",
    "    for q in Q:\n",
    "        Q_cosine += q.dot(D) / euclid_norm(q) * euclid_norm(D)\n",
    "    return Q_cosine/Q_N"
   ]
  },
  {
   "cell_type": "code",
   "execution_count": 177,
   "metadata": {
    "collapsed": false
   },
   "outputs": [
    {
     "data": {
      "text/plain": [
       "[('Cambridge', -0.05113931496738447),\n",
       " ('Oxford', -0.05702753890771936),\n",
       " ('Cambridge_switched', -0.06067280038670073),\n",
       " ('Giraffes_switched', -0.07643237307293758),\n",
       " ('Giraffes', -0.0825272178554687)]"
      ]
     },
     "execution_count": 177,
     "metadata": {},
     "output_type": "execute_result"
    }
   ],
   "source": [
    "def sort_help(elem):\n",
    "    return elem[1]\n",
    "ranking = [(doc_title[idx], desm(query_embeds[0], doc_centroids[idx])) for idx in range(len(doc_centroids))]\n",
    "\n",
    "ranking.sort(key=sort_help, reverse=True)\n",
    "ranking"
   ]
  },
  {
   "cell_type": "code",
   "execution_count": null,
   "metadata": {
    "collapsed": true
   },
   "outputs": [],
   "source": []
  }
 ],
 "metadata": {
  "kernelspec": {
   "display_name": "Python 3",
   "language": "python",
   "name": "python3"
  },
  "language_info": {
   "codemirror_mode": {
    "name": "ipython",
    "version": 3
   },
   "file_extension": ".py",
   "mimetype": "text/x-python",
   "name": "python",
   "nbconvert_exporter": "python",
   "pygments_lexer": "ipython3",
   "version": "3.5.2"
  }
 },
 "nbformat": 4,
 "nbformat_minor": 2
}
